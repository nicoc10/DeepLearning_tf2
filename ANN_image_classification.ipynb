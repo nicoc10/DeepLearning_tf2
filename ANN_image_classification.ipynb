{
 "cells": [
  {
   "cell_type": "code",
   "execution_count": 2,
   "metadata": {},
   "outputs": [
    {
     "name": "stdout",
     "output_type": "stream",
     "text": [
      "/home/jupyter/DeepLearning_tf2\n"
     ]
    }
   ],
   "source": [
    "!pwd"
   ]
  },
  {
   "cell_type": "code",
   "execution_count": 25,
   "metadata": {},
   "outputs": [
    {
     "name": "stdout",
     "output_type": "stream",
     "text": [
      "2.1.1\n"
     ]
    }
   ],
   "source": [
    "import tensorflow as tf\n",
    "print(tf.__version__)"
   ]
  },
  {
   "cell_type": "code",
   "execution_count": 27,
   "metadata": {},
   "outputs": [
    {
     "name": "stdout",
     "output_type": "stream",
     "text": [
      "x_train.shape:  (60000, 28, 28)\n"
     ]
    }
   ],
   "source": [
    "#load data\n",
    "mnist = tf.keras.datasets.mnist\n",
    "#split data\n",
    "(x_train, y_train), (x_test, y_test) = mnist.load_data()\n",
    "#normalize values, remember color are between 0 to 255 (1 to 256)\n",
    "x_train, y_train = x_train/255, y_train/255\n",
    "#print shape\n",
    "print(\"x_train.shape: \", x_train.shape)"
   ]
  },
  {
   "cell_type": "code",
   "execution_count": 31,
   "metadata": {},
   "outputs": [],
   "source": [
    "#build the model\n",
    "model = tf.keras.models.Sequential([\n",
    "    #initial input flatten, remember the input shape\n",
    "    tf.keras.layers.Flatten(input_shape = (28,28)),\n",
    "    #random dense layer\n",
    "    tf.keras.layers.Dense(128, activation = 'relu'),\n",
    "    #selecting dropout\n",
    "    tf.keras.layers.Dropout(0.2),\n",
    "    #select the output with 10 posibles values and multiclass softmax\n",
    "    tf.keras.layers.Dense(10, activation = 'softmax')\n",
    "])"
   ]
  },
  {
   "cell_type": "code",
   "execution_count": 35,
   "metadata": {},
   "outputs": [],
   "source": [
    "# compile the model\n",
    "model.compile(optimizer = 'adam',\n",
    "              loss = 'sparse_categorical_crossentropy',\n",
    "              metrics = ['accuracy'])"
   ]
  },
  {
   "cell_type": "code",
   "execution_count": 36,
   "metadata": {
    "collapsed": true,
    "jupyter": {
     "outputs_hidden": true
    }
   },
   "outputs": [
    {
     "name": "stdout",
     "output_type": "stream",
     "text": [
      "Train on 60000 samples, validate on 10000 samples\n",
      "Epoch 1/10\n",
      "60000/60000 [==============================] - 8s 140us/sample - loss: 0.0036 - accuracy: 0.0986 - val_loss: 6447.9813 - val_accuracy: 0.0980\n",
      "Epoch 2/10\n",
      "60000/60000 [==============================] - 6s 99us/sample - loss: 4.4325e-06 - accuracy: 0.0987 - val_loss: 7538.8861 - val_accuracy: 0.0980\n",
      "Epoch 3/10\n",
      "60000/60000 [==============================] - 6s 101us/sample - loss: 1.1492e-06 - accuracy: 0.0987 - val_loss: 8393.8043 - val_accuracy: 0.0980\n",
      "Epoch 4/10\n",
      "60000/60000 [==============================] - 6s 95us/sample - loss: 5.7652e-07 - accuracy: 0.0987 - val_loss: 9270.5231 - val_accuracy: 0.0980\n",
      "Epoch 5/10\n",
      "60000/60000 [==============================] - 6s 95us/sample - loss: 1.0586e-07 - accuracy: 0.0987 - val_loss: 9889.4260 - val_accuracy: 0.0980\n",
      "Epoch 6/10\n",
      "60000/60000 [==============================] - 6s 96us/sample - loss: 4.0085e-08 - accuracy: 0.0987 - val_loss: 10539.8342 - val_accuracy: 0.0980\n",
      "Epoch 7/10\n",
      "60000/60000 [==============================] - 6s 95us/sample - loss: 2.0658e-08 - accuracy: 0.0987 - val_loss: 11205.5285 - val_accuracy: 0.0980\n",
      "Epoch 8/10\n",
      "60000/60000 [==============================] - 6s 93us/sample - loss: 4.4862e-09 - accuracy: 0.0987 - val_loss: 11537.5630 - val_accuracy: 0.0980\n",
      "Epoch 9/10\n",
      "60000/60000 [==============================] - 6s 96us/sample - loss: 3.9597e-09 - accuracy: 0.0987 - val_loss: 12095.9678 - val_accuracy: 0.0980\n",
      "Epoch 10/10\n",
      "60000/60000 [==============================] - 6s 103us/sample - loss: 2.2073e-09 - accuracy: 0.0987 - val_loss: 12602.6603 - val_accuracy: 0.0980\n"
     ]
    }
   ],
   "source": [
    "#train the model\n",
    "r = model.fit(x_train, \n",
    "              y_train, \n",
    "              validation_data = (x_test, y_test), \n",
    "              epochs = 10)"
   ]
  },
  {
   "cell_type": "code",
   "execution_count": 42,
   "metadata": {},
   "outputs": [
    {
     "data": {
      "text/plain": [
       "{'loss': [0.0036402965000547588,\n",
       "  4.432491832415408e-06,\n",
       "  1.1491570270926843e-06,\n",
       "  5.765154597791404e-07,\n",
       "  1.0586493663211626e-07,\n",
       "  4.008549555294394e-08,\n",
       "  2.0658246915298642e-08,\n",
       "  4.486206002477881e-09,\n",
       "  3.959694186998301e-09,\n",
       "  2.2073133732665915e-09],\n",
       " 'accuracy': [0.098633334,\n",
       "  0.09871667,\n",
       "  0.09871667,\n",
       "  0.09871667,\n",
       "  0.09871667,\n",
       "  0.09871667,\n",
       "  0.09871667,\n",
       "  0.09871667,\n",
       "  0.09871667,\n",
       "  0.09871667],\n",
       " 'val_loss': [6447.9813375,\n",
       "  7538.88610625,\n",
       "  8393.8042703125,\n",
       "  9270.52305625,\n",
       "  9889.425971875,\n",
       "  10539.8341515625,\n",
       "  11205.52851875,\n",
       "  11537.5630109375,\n",
       "  12095.967784375,\n",
       "  12602.6603125],\n",
       " 'val_accuracy': [0.098,\n",
       "  0.098,\n",
       "  0.098,\n",
       "  0.098,\n",
       "  0.098,\n",
       "  0.098,\n",
       "  0.098,\n",
       "  0.098,\n",
       "  0.098,\n",
       "  0.098]}"
      ]
     },
     "execution_count": 42,
     "metadata": {},
     "output_type": "execute_result"
    }
   ],
   "source": [
    "r.history"
   ]
  },
  {
   "cell_type": "code",
   "execution_count": 46,
   "metadata": {},
   "outputs": [
    {
     "data": {
      "text/plain": [
       "<matplotlib.legend.Legend at 0x7fa1c80b69d0>"
      ]
     },
     "execution_count": 46,
     "metadata": {},
     "output_type": "execute_result"
    },
    {
     "data": {
      "image/png": "[encoded data removed]",
      "text/plain": [
       "<Figure size 432x288 with 1 Axes>"
      ]
     },
     "metadata": {
      "needs_background": "light"
     },
     "output_type": "display_data"
    }
   ],
   "source": [
    "#plot loss per iteration\n",
    "import matplotlib.pyplot as plt\n",
    "\n",
    "plt.plot(r.history['loss'], label = \"loss\")\n",
    "plt.plot(r.history['val_loss'], label = \"val_loss\")\n",
    "plt.legend()"
   ]
  },
  {
   "cell_type": "code",
   "execution_count": null,
   "metadata": {},
   "outputs": [],
   "source": []
  }
 ],
 "metadata": {
  "environment": {
   "name": "tf2-gpu.2-1.m58",
   "type": "gcloud",
   "uri": "gcr.io/deeplearning-platform-release/tf2-gpu.2-1:m58"
  },
  "kernelspec": {
   "display_name": "Python 3",
   "language": "python",
   "name": "python3"
  },
  "language_info": {
   "codemirror_mode": {
    "name": "ipython",
    "version": 3
   },
   "file_extension": ".py",
   "mimetype": "text/x-python",
   "name": "python",
   "nbconvert_exporter": "python",
   "pygments_lexer": "ipython3",
   "version": "3.7.8"
  }
 },
 "nbformat": 4,
 "nbformat_minor": 4
}
